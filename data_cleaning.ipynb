{
 "cells": [
  {
   "cell_type": "code",
   "execution_count": null,
   "metadata": {
    "id": "0GU8kBb4wqh8"
   },
   "outputs": [],
   "source": [
    "import tensorflow_hub as hub"
   ]
  },
  {
   "cell_type": "code",
   "execution_count": 7,
   "metadata": {
    "id": "5YSdyRO5yq9Z"
   },
   "outputs": [],
   "source": [
    "# import tensorflow as tf\n",
    "import nltk"
   ]
  },
  {
   "cell_type": "code",
   "execution_count": 3,
   "metadata": {
    "id": "2YtJJVZBwuMC"
   },
   "outputs": [],
   "source": [
    "import pandas as pd\n",
    "import sklearn"
   ]
  },
  {
   "cell_type": "code",
   "execution_count": 4,
   "metadata": {
    "id": "vWZQWF4x6Duj"
   },
   "outputs": [],
   "source": [
    "import numpy as np\n",
    "import seaborn as sns"
   ]
  },
  {
   "cell_type": "code",
   "execution_count": 5,
   "metadata": {
    "id": "sCMoxaMdMHEh"
   },
   "outputs": [],
   "source": [
    "import string"
   ]
  },
  {
   "cell_type": "code",
   "execution_count": 8,
   "metadata": {
    "colab": {
     "base_uri": "https://localhost:8080/"
    },
    "id": "5htsuIJLIy2v",
    "outputId": "c688e46f-dd12-4680-df5f-6aaddc20b531"
   },
   "outputs": [
    {
     "name": "stderr",
     "output_type": "stream",
     "text": [
      "[nltk_data] Downloading package punkt to\n",
      "[nltk_data]     C:\\Users\\kjaga\\AppData\\Roaming\\nltk_data...\n",
      "[nltk_data]   Unzipping tokenizers\\punkt.zip.\n"
     ]
    },
    {
     "data": {
      "text/plain": [
       "True"
      ]
     },
     "execution_count": 8,
     "metadata": {},
     "output_type": "execute_result"
    }
   ],
   "source": [
    "nltk.download('punkt')"
   ]
  },
  {
   "cell_type": "code",
   "execution_count": 9,
   "metadata": {
    "colab": {
     "base_uri": "https://localhost:8080/"
    },
    "id": "Z88Yy2SNI3C2",
    "outputId": "c27f53da-c88e-40f0-f342-a3ac748a834d"
   },
   "outputs": [
    {
     "name": "stderr",
     "output_type": "stream",
     "text": [
      "[nltk_data] Downloading package stopwords to\n",
      "[nltk_data]     C:\\Users\\kjaga\\AppData\\Roaming\\nltk_data...\n",
      "[nltk_data]   Unzipping corpora\\stopwords.zip.\n"
     ]
    }
   ],
   "source": [
    "from nltk.corpus import stopwords\n",
    "nltk.download('stopwords')\n",
    "stop_words = stopwords.words('english')"
   ]
  },
  {
   "cell_type": "code",
   "execution_count": null,
   "metadata": {
    "id": "_bcwn7qrI3Fb"
   },
   "outputs": [],
   "source": []
  },
  {
   "cell_type": "markdown",
   "metadata": {
    "id": "FoaNnxROKbL8"
   },
   "source": [
    "**Loading the data**\n",
    "\n"
   ]
  },
  {
   "cell_type": "code",
   "execution_count": 100,
   "metadata": {
    "id": "d37IA4YtxrVL"
   },
   "outputs": [],
   "source": [
    "data_df = pd.read_csv('processed.csv',header = 0)"
   ]
  },
  {
   "cell_type": "code",
   "execution_count": 101,
   "metadata": {
    "colab": {
     "base_uri": "https://localhost:8080/"
    },
    "id": "aTFBzFiix-TA",
    "outputId": "d3c81a39-01d2-491d-ca20-72af8365cd2c"
   },
   "outputs": [
    {
     "data": {
      "text/plain": [
       "Index(['wiki_id', 'title_goog', 'title_cmu', 'key', 'publisher', 'rating',\n",
       "       'num_ratings', 'summary_cmu', 'summary_goog', 'genre'],\n",
       "      dtype='object')"
      ]
     },
     "execution_count": 101,
     "metadata": {},
     "output_type": "execute_result"
    }
   ],
   "source": [
    "data_df.columns"
   ]
  },
  {
   "cell_type": "code",
   "execution_count": 143,
   "metadata": {
    "id": "2UegFNLKx5AN"
   },
   "outputs": [
    {
     "name": "stdout",
     "output_type": "stream",
     "text": [
      "                                           title  Fiction  \\\n",
      "0                                    Animal Farm        1   \n",
      "1                             A Clockwork Orange        1   \n",
      "2                                     The Plague        1   \n",
      "3      An Enquiry Concerning Human Understanding        0   \n",
      "4                           A Fire Upon the Deep        1   \n",
      "...                                          ...      ...   \n",
      "11307                                  Suspicion        0   \n",
      "11308                        Who Killed Zebedee?        0   \n",
      "11309                              Charon's Claw        0   \n",
      "11310                              The Last Girl        1   \n",
      "11311                     The Democratic Paradox        0   \n",
      "\n",
      "       Speculative fiction  Science Fiction  Fantasy  Novel  \\\n",
      "0                        1                0        0      0   \n",
      "1                        1                1        0      0   \n",
      "2                        0                0        0      1   \n",
      "3                        0                0        0      0   \n",
      "4                        1                1        1      0   \n",
      "...                    ...              ...      ...    ...   \n",
      "11307                    0                0        0      0   \n",
      "11308                    0                0        0      0   \n",
      "11309                    0                0        0      0   \n",
      "11310                    0                0        0      0   \n",
      "11311                    0                0        0      0   \n",
      "\n",
      "       Children literature  Mystery  Young adult literature  Suspense  \\\n",
      "0                        1        0                       0         0   \n",
      "1                        0        0                       0         0   \n",
      "2                        0        0                       0         0   \n",
      "3                        0        0                       0         0   \n",
      "4                        0        0                       0         0   \n",
      "...                    ...      ...                     ...       ...   \n",
      "11307                    0        0                       0         0   \n",
      "11308                    0        0                       0         0   \n",
      "11309                    0        0                       0         0   \n",
      "11310                    0        0                       0         0   \n",
      "11311                    0        0                       0         0   \n",
      "\n",
      "       Crime Fiction  Thriller  Horror  Historical novel  Romance novel  \\\n",
      "0                  0         0       0                 0              0   \n",
      "1                  0         0       0                 0              0   \n",
      "2                  0         0       0                 0              0   \n",
      "3                  0         0       0                 0              0   \n",
      "4                  0         0       0                 0              0   \n",
      "...              ...       ...     ...               ...            ...   \n",
      "11307              0         0       0                 0              0   \n",
      "11308              0         0       0                 0              0   \n",
      "11309              0         0       0                 0              0   \n",
      "11310              0         0       0                 0              0   \n",
      "11311              0         0       0                 0              0   \n",
      "\n",
      "       Historical fiction  other_genre  \n",
      "0                       0            1  \n",
      "1                       0            1  \n",
      "2                       0            1  \n",
      "3                       0            0  \n",
      "4                       0            1  \n",
      "...                   ...          ...  \n",
      "11307                   0            0  \n",
      "11308                   0            1  \n",
      "11309                   0            0  \n",
      "11310                   1            0  \n",
      "11311                   0            0  \n",
      "\n",
      "[11312 rows x 17 columns]\n"
     ]
    }
   ],
   "source": [
    "from collections import Counter, defaultdict\n",
    "import json\n",
    "\n",
    "\n",
    "data_df = pd.read_csv('processed.csv',header = 0)\n",
    "\n",
    "\n",
    "genre_count = Counter()\n",
    "book_to_genre = defaultdict(set)\n",
    "for row in data_df.to_dict('records'):\n",
    "    entry = row['genre']\n",
    "    if not isinstance(entry, str):\n",
    "        continue\n",
    "    temp_one = entry.replace(\"'s\", \"\").replace(\"'\", '\"').replace('/','')\n",
    "    temp = json.loads(temp_one)\n",
    "    book_to_genre[row['title_cmu']].update(list(temp.values()))\n",
    "    for val in temp.values():\n",
    "        genre_count[val]+=1\n",
    "\n",
    "genre_freq = list(genre_count.items())\n",
    "genre_freq.sort(key = lambda x: x[1], reverse=True)\n",
    "top_genres = [pair[0] for pair in genre_freq[:15]]\n",
    "\n",
    "\n",
    "new_df = pd.DataFrame()\n",
    "new_df['title'] = data_df['title_cmu'].unique()\n",
    "\n",
    "for genre in top_genres:\n",
    "    new_df[genre] = 0\n",
    "\n",
    "new_df['other_genre'] = 0\n",
    "\n",
    "\n",
    "i = -1\n",
    "for row in new_df.to_dict('records'):\n",
    "    i+=1\n",
    "    title = row['title']\n",
    "    for genre in book_to_genre[title]:\n",
    "        if genre in top_genres:\n",
    "            new_df.at[i, genre] = 1\n",
    "        else:\n",
    "            new_df.at[i, 'other_genre'] = 1\n",
    "\n",
    "print(new_df)"
   ]
  },
  {
   "cell_type": "code",
   "execution_count": 131,
   "metadata": {
    "id": "ZEiByc1iJVqV"
   },
   "outputs": [
    {
     "name": "stdout",
     "output_type": "stream",
     "text": [
      "                                           title  Penguin  Simon and Schuster  \\\n",
      "0                                    Animal Farm        0                   0   \n",
      "1                             A Clockwork Orange        0                   0   \n",
      "2                                     The Plague        0                   1   \n",
      "3      An Enquiry Concerning Human Understanding        0                   0   \n",
      "4                           A Fire Upon the Deep        0                   0   \n",
      "...                                          ...      ...                 ...   \n",
      "11307                                  Suspicion        0                   0   \n",
      "11308                        Who Killed Zebedee?        0                   0   \n",
      "11309                              Charon's Claw        0                   0   \n",
      "11310                              The Last Girl        0                   0   \n",
      "11311                     The Democratic Paradox        0                   0   \n",
      "\n",
      "       Harper Collins  Macmillan  Random House  Vintage  Del Rey  \\\n",
      "0                   0          0             0        0        0   \n",
      "1                   0          0             0        0        0   \n",
      "2                   0          0             0        1        0   \n",
      "3                   0          0             0        0        0   \n",
      "4                   0          1             0        0        0   \n",
      "...               ...        ...           ...      ...      ...   \n",
      "11307               0          0             0        0        0   \n",
      "11308               0          0             0        0        0   \n",
      "11309               0          0             0        0        0   \n",
      "11310               0          0             0        0        0   \n",
      "11311               0          0             0        0        0   \n",
      "\n",
      "       Open Road Media  Houghton Mifflin Harcourt  HarperCollins  Hachette UK  \\\n",
      "0                    0                          1              1            0   \n",
      "1                    0                          0              0            0   \n",
      "2                    0                          0              0            0   \n",
      "3                    0                          0              0            0   \n",
      "4                    0                          0              0            0   \n",
      "...                ...                        ...            ...          ...   \n",
      "11307                1                          0              0            0   \n",
      "11308                0                          0              0            0   \n",
      "11309                0                          0              0            0   \n",
      "11310                0                          0              0            1   \n",
      "11311                0                          0              0            0   \n",
      "\n",
      "       Scholastic Inc.  Tor Books  HarperCollins UK  Ballantine Books  \\\n",
      "0                    0          0                 0                 0   \n",
      "1                    0          0                 0                 0   \n",
      "2                    0          0                 0                 0   \n",
      "3                    0          0                 0                 0   \n",
      "4                    0          1                 0                 0   \n",
      "...                ...        ...               ...               ...   \n",
      "11307                0          0                 0                 0   \n",
      "11308                0          0                 0                 0   \n",
      "11309                0          0                 0                 0   \n",
      "11310                0          0                 1                 0   \n",
      "11311                0          0                 0                 0   \n",
      "\n",
      "       other_publisher  \n",
      "0                    1  \n",
      "1                    1  \n",
      "2                    1  \n",
      "3                    1  \n",
      "4                    1  \n",
      "...                ...  \n",
      "11307                1  \n",
      "11308                1  \n",
      "11309                1  \n",
      "11310                1  \n",
      "11311                1  \n",
      "\n",
      "[11312 rows x 17 columns]\n"
     ]
    }
   ],
   "source": [
    "from collections import Counter, defaultdict\n",
    "import json\n",
    "\n",
    "data_df = pd.read_csv('processed.csv',header = 0)\n",
    "\n",
    "publisher_count = Counter()\n",
    "book_to_publishers = defaultdict(set)\n",
    "for row in data_df.to_dict('records'):\n",
    "    book_to_publishers[row['title_cmu']].add(row['publisher'])\n",
    "    entry = row['publisher']\n",
    "    publisher_count[entry]+=1\n",
    "\n",
    "\n",
    "publisher_freq = list(publisher_count.items())\n",
    "publisher_freq.sort(key = lambda x: x[1], reverse=True)\n",
    "top_publishers = [pair[0] for pair in publisher_freq[:15]]\n",
    "\n",
    "new_df = pd.DataFrame()\n",
    "new_df['title'] = data_df['title_cmu'].unique()\n",
    "\n",
    "for pub in top_publishers:\n",
    "    new_df[pub] = 0\n",
    "\n",
    "new_df['other_publisher'] = 0\n",
    "\n",
    "\n",
    "i = -1\n",
    "for row in new_df.to_dict('records'):\n",
    "    i+=1\n",
    "    title = row['title']\n",
    "    \n",
    "    for pub in book_to_publishers[title]:\n",
    "        if pub in top_publishers:\n",
    "            new_df.at[i,pub] = 1\n",
    "        else:\n",
    "            new_df.at[i,'other_publisher'] = 1\n",
    "        \n",
    "\n",
    "\n",
    "print(new_df)"
   ]
  },
  {
   "cell_type": "code",
   "execution_count": 128,
   "metadata": {
    "colab": {
     "base_uri": "https://localhost:8080/",
     "height": 424
    },
    "id": "rBks5psVNaUF",
    "outputId": "ee85d067-fd4a-48b2-b649-a9e12d8bf219"
   },
   "outputs": [
    {
     "name": "stdout",
     "output_type": "stream",
     "text": [
      "                                           title\n",
      "0                                    Animal Farm\n",
      "1                             A Clockwork Orange\n",
      "2                                     The Plague\n",
      "3      An Enquiry Concerning Human Understanding\n",
      "4                           A Fire Upon the Deep\n",
      "...                                          ...\n",
      "11307                                  Suspicion\n",
      "11308                        Who Killed Zebedee?\n",
      "11309                              Charon's Claw\n",
      "11310                              The Last Girl\n",
      "11311                     The Democratic Paradox\n",
      "\n",
      "[11312 rows x 1 columns]\n"
     ]
    }
   ],
   "source": [
    "data_df = pd.read_csv('processed.csv',header = 0)\n",
    "\n",
    "new_df = pd.DataFrame()\n",
    "new_df['title'] = data_df['title_cmu'].unique()\n",
    "print(new_df)"
   ]
  },
  {
   "cell_type": "code",
   "execution_count": null,
   "metadata": {
    "id": "-2V3OJRQIcra"
   },
   "outputs": [],
   "source": [
    "cmu_summaries['cleaned'] = cmu_summaries['summary_cmu'].apply(lambda x: nltk.tokenize.word_tokenize(x))"
   ]
  },
  {
   "cell_type": "code",
   "execution_count": null,
   "metadata": {
    "id": "_knMqZejLB6Z"
   },
   "outputs": [],
   "source": []
  },
  {
   "cell_type": "code",
   "execution_count": null,
   "metadata": {
    "colab": {
     "background_save": true
    },
    "id": "TV0qQh5yJXj_"
   },
   "outputs": [],
   "source": [
    "def remove_punc(text):\n",
    "    text = text.translate(str.maketrans('', '', string.punctuation))\n",
    "    return text"
   ]
  },
  {
   "cell_type": "code",
   "execution_count": null,
   "metadata": {
    "id": "lIiFdpFnJe2F"
   },
   "outputs": [],
   "source": [
    "cmu_summaries['cleaned'] = cmu_summaries.cleaned.apply(lambda summary: [remove_punc(w) for w in summary])"
   ]
  },
  {
   "cell_type": "code",
   "execution_count": null,
   "metadata": {
    "colab": {
     "base_uri": "https://localhost:8080/"
    },
    "id": "H4XampA2GAlH",
    "outputId": "b8d93696-307c-40ef-9cf3-fc3281071e72"
   },
   "outputs": [
    {
     "name": "stderr",
     "output_type": "stream",
     "text": [
      "[nltk_data] Downloading package stopwords to /root/nltk_data...\n",
      "[nltk_data]   Package stopwords is already up-to-date!\n"
     ]
    }
   ],
   "source": [
    "from nltk.corpus import stopwords\n",
    "nltk.download('stopwords')\n",
    "stop_words = stopwords.words('english')"
   ]
  },
  {
   "cell_type": "code",
   "execution_count": null,
   "metadata": {
    "id": "viwxeKGyO-QX"
   },
   "outputs": [],
   "source": [
    "cmu_summaries['cleaned'] = cmu_summaries.cleaned.apply(lambda tweet: [w for w in tweet if w.lower() not in stop_words])"
   ]
  },
  {
   "cell_type": "code",
   "execution_count": null,
   "metadata": {
    "id": "GGgO0rQBO-SX"
   },
   "outputs": [],
   "source": [
    "cmu_summaries['cleaned'] = cmu_summaries.cleaned.apply(lambda tweet: [w.lower() for w in tweet])\n"
   ]
  },
  {
   "cell_type": "code",
   "execution_count": null,
   "metadata": {
    "colab": {
     "base_uri": "https://localhost:8080/"
    },
    "id": "vk5TAJU5O-U3",
    "outputId": "8f5065ff-0c13-4cfd-e879-96f045e19342"
   },
   "outputs": [
    {
     "name": "stderr",
     "output_type": "stream",
     "text": [
      "[nltk_data] Downloading package wordnet to /root/nltk_data...\n",
      "[nltk_data]   Package wordnet is already up-to-date!\n"
     ]
    }
   ],
   "source": [
    "from nltk.stem import WordNetLemmatizer \n",
    "nltk.download('wordnet')\n",
    "lemmatizer = WordNetLemmatizer() "
   ]
  },
  {
   "cell_type": "code",
   "execution_count": null,
   "metadata": {
    "id": "3s_CkE8QO-ZC"
   },
   "outputs": [],
   "source": [
    "from nltk.stem import PorterStemmer \n",
    "ps = PorterStemmer()"
   ]
  },
  {
   "cell_type": "code",
   "execution_count": 26,
   "metadata": {
    "colab": {
     "base_uri": "https://localhost:8080/",
     "height": 206
    },
    "id": "l5dH5NQSPlfl",
    "outputId": "6837c05e-ddb0-46b8-e410-a4a4aaca30ce"
   },
   "outputs": [
    {
     "data": {
      "text/html": [
       "\n",
       "  <div id=\"df-a22448ee-38f6-4345-b66c-8176880389be\">\n",
       "    <div class=\"colab-df-container\">\n",
       "      <div>\n",
       "<style scoped>\n",
       "    .dataframe tbody tr th:only-of-type {\n",
       "        vertical-align: middle;\n",
       "    }\n",
       "\n",
       "    .dataframe tbody tr th {\n",
       "        vertical-align: top;\n",
       "    }\n",
       "\n",
       "    .dataframe thead th {\n",
       "        text-align: right;\n",
       "    }\n",
       "</style>\n",
       "<table border=\"1\" class=\"dataframe\">\n",
       "  <thead>\n",
       "    <tr style=\"text-align: right;\">\n",
       "      <th></th>\n",
       "      <th>title_cmu</th>\n",
       "      <th>summary_cmu</th>\n",
       "      <th>cleaned</th>\n",
       "    </tr>\n",
       "  </thead>\n",
       "  <tbody>\n",
       "    <tr>\n",
       "      <th>0</th>\n",
       "      <td>Animal Farm</td>\n",
       "      <td>Old Major, the old boar on the Manor Farm, ca...</td>\n",
       "      <td>[old, major, , old, boar, manor, farm, , calls...</td>\n",
       "    </tr>\n",
       "    <tr>\n",
       "      <th>7</th>\n",
       "      <td>A Clockwork Orange</td>\n",
       "      <td>Alex, a teenager living in near-future Englan...</td>\n",
       "      <td>[alex, , teenager, living, nearfuture, england...</td>\n",
       "    </tr>\n",
       "    <tr>\n",
       "      <th>12</th>\n",
       "      <td>The Plague</td>\n",
       "      <td>The text of The Plague is divided into five p...</td>\n",
       "      <td>[text, plague, divided, five, parts, , town, o...</td>\n",
       "    </tr>\n",
       "    <tr>\n",
       "      <th>16</th>\n",
       "      <td>An Enquiry Concerning Human Understanding</td>\n",
       "      <td>The argument of the Enquiry proceeds by a ser...</td>\n",
       "      <td>[argument, enquiry, proceeds, series, incremen...</td>\n",
       "    </tr>\n",
       "    <tr>\n",
       "      <th>17</th>\n",
       "      <td>A Fire Upon the Deep</td>\n",
       "      <td>The novel posits that space around the Milky ...</td>\n",
       "      <td>[novel, posits, space, around, milky, way, div...</td>\n",
       "    </tr>\n",
       "  </tbody>\n",
       "</table>\n",
       "</div>\n",
       "      <button class=\"colab-df-convert\" onclick=\"convertToInteractive('df-a22448ee-38f6-4345-b66c-8176880389be')\"\n",
       "              title=\"Convert this dataframe to an interactive table.\"\n",
       "              style=\"display:none;\">\n",
       "        \n",
       "  <svg xmlns=\"http://www.w3.org/2000/svg\" height=\"24px\"viewBox=\"0 0 24 24\"\n",
       "       width=\"24px\">\n",
       "    <path d=\"M0 0h24v24H0V0z\" fill=\"none\"/>\n",
       "    <path d=\"M18.56 5.44l.94 2.06.94-2.06 2.06-.94-2.06-.94-.94-2.06-.94 2.06-2.06.94zm-11 1L8.5 8.5l.94-2.06 2.06-.94-2.06-.94L8.5 2.5l-.94 2.06-2.06.94zm10 10l.94 2.06.94-2.06 2.06-.94-2.06-.94-.94-2.06-.94 2.06-2.06.94z\"/><path d=\"M17.41 7.96l-1.37-1.37c-.4-.4-.92-.59-1.43-.59-.52 0-1.04.2-1.43.59L10.3 9.45l-7.72 7.72c-.78.78-.78 2.05 0 2.83L4 21.41c.39.39.9.59 1.41.59.51 0 1.02-.2 1.41-.59l7.78-7.78 2.81-2.81c.8-.78.8-2.07 0-2.86zM5.41 20L4 18.59l7.72-7.72 1.47 1.35L5.41 20z\"/>\n",
       "  </svg>\n",
       "      </button>\n",
       "      \n",
       "  <style>\n",
       "    .colab-df-container {\n",
       "      display:flex;\n",
       "      flex-wrap:wrap;\n",
       "      gap: 12px;\n",
       "    }\n",
       "\n",
       "    .colab-df-convert {\n",
       "      background-color: #E8F0FE;\n",
       "      border: none;\n",
       "      border-radius: 50%;\n",
       "      cursor: pointer;\n",
       "      display: none;\n",
       "      fill: #1967D2;\n",
       "      height: 32px;\n",
       "      padding: 0 0 0 0;\n",
       "      width: 32px;\n",
       "    }\n",
       "\n",
       "    .colab-df-convert:hover {\n",
       "      background-color: #E2EBFA;\n",
       "      box-shadow: 0px 1px 2px rgba(60, 64, 67, 0.3), 0px 1px 3px 1px rgba(60, 64, 67, 0.15);\n",
       "      fill: #174EA6;\n",
       "    }\n",
       "\n",
       "    [theme=dark] .colab-df-convert {\n",
       "      background-color: #3B4455;\n",
       "      fill: #D2E3FC;\n",
       "    }\n",
       "\n",
       "    [theme=dark] .colab-df-convert:hover {\n",
       "      background-color: #434B5C;\n",
       "      box-shadow: 0px 1px 3px 1px rgba(0, 0, 0, 0.15);\n",
       "      filter: drop-shadow(0px 1px 2px rgba(0, 0, 0, 0.3));\n",
       "      fill: #FFFFFF;\n",
       "    }\n",
       "  </style>\n",
       "\n",
       "      <script>\n",
       "        const buttonEl =\n",
       "          document.querySelector('#df-a22448ee-38f6-4345-b66c-8176880389be button.colab-df-convert');\n",
       "        buttonEl.style.display =\n",
       "          google.colab.kernel.accessAllowed ? 'block' : 'none';\n",
       "\n",
       "        async function convertToInteractive(key) {\n",
       "          const element = document.querySelector('#df-a22448ee-38f6-4345-b66c-8176880389be');\n",
       "          const dataTable =\n",
       "            await google.colab.kernel.invokeFunction('convertToInteractive',\n",
       "                                                     [key], {});\n",
       "          if (!dataTable) return;\n",
       "\n",
       "          const docLinkHtml = 'Like what you see? Visit the ' +\n",
       "            '<a target=\"_blank\" href=https://colab.research.google.com/notebooks/data_table.ipynb>data table notebook</a>'\n",
       "            + ' to learn more about interactive tables.';\n",
       "          element.innerHTML = '';\n",
       "          dataTable['output_type'] = 'display_data';\n",
       "          await google.colab.output.renderOutput(dataTable, element);\n",
       "          const docLink = document.createElement('div');\n",
       "          docLink.innerHTML = docLinkHtml;\n",
       "          element.appendChild(docLink);\n",
       "        }\n",
       "      </script>\n",
       "    </div>\n",
       "  </div>\n",
       "  "
      ],
      "text/plain": [
       "                                    title_cmu  \\\n",
       "0                                 Animal Farm   \n",
       "7                          A Clockwork Orange   \n",
       "12                                 The Plague   \n",
       "16  An Enquiry Concerning Human Understanding   \n",
       "17                       A Fire Upon the Deep   \n",
       "\n",
       "                                          summary_cmu  \\\n",
       "0    Old Major, the old boar on the Manor Farm, ca...   \n",
       "7    Alex, a teenager living in near-future Englan...   \n",
       "12   The text of The Plague is divided into five p...   \n",
       "16   The argument of the Enquiry proceeds by a ser...   \n",
       "17   The novel posits that space around the Milky ...   \n",
       "\n",
       "                                              cleaned  \n",
       "0   [old, major, , old, boar, manor, farm, , calls...  \n",
       "7   [alex, , teenager, living, nearfuture, england...  \n",
       "12  [text, plague, divided, five, parts, , town, o...  \n",
       "16  [argument, enquiry, proceeds, series, incremen...  \n",
       "17  [novel, posits, space, around, milky, way, div...  "
      ]
     },
     "execution_count": 26,
     "metadata": {},
     "output_type": "execute_result"
    }
   ],
   "source": [
    "cmu_summaries.head()"
   ]
  },
  {
   "cell_type": "code",
   "execution_count": null,
   "metadata": {
    "id": "khTnmfD7O-c0"
   },
   "outputs": [],
   "source": [
    "cmu_summaries['cleaned'] = cmu_summaries.cleaned.apply(lambda tweet: [lemmatizer.lemmatize(w) for w in tweet ])"
   ]
  },
  {
   "cell_type": "code",
   "execution_count": 27,
   "metadata": {
    "id": "zWEtYmmFO-fP"
   },
   "outputs": [],
   "source": [
    "cmu_summaries['cleaned'] = cmu_summaries.cleaned.apply(lambda tweet: [ps.stem(w) for w in tweet ])"
   ]
  },
  {
   "cell_type": "code",
   "execution_count": 33,
   "metadata": {
    "id": "en-YBsb5O-iK"
   },
   "outputs": [],
   "source": [
    "cmu_summaries['cleaned'] = cmu_summaries.cleaned.apply(lambda tweet: ' '.join(tweet))"
   ]
  },
  {
   "cell_type": "code",
   "execution_count": 34,
   "metadata": {
    "colab": {
     "base_uri": "https://localhost:8080/",
     "height": 206
    },
    "id": "bTih-7_2O-kr",
    "outputId": "f2297950-af00-459b-96f5-8c8a7208a6e1"
   },
   "outputs": [
    {
     "data": {
      "text/html": [
       "\n",
       "  <div id=\"df-6e89bac4-14f2-410d-b3b6-bef92fb31726\">\n",
       "    <div class=\"colab-df-container\">\n",
       "      <div>\n",
       "<style scoped>\n",
       "    .dataframe tbody tr th:only-of-type {\n",
       "        vertical-align: middle;\n",
       "    }\n",
       "\n",
       "    .dataframe tbody tr th {\n",
       "        vertical-align: top;\n",
       "    }\n",
       "\n",
       "    .dataframe thead th {\n",
       "        text-align: right;\n",
       "    }\n",
       "</style>\n",
       "<table border=\"1\" class=\"dataframe\">\n",
       "  <thead>\n",
       "    <tr style=\"text-align: right;\">\n",
       "      <th></th>\n",
       "      <th>title_cmu</th>\n",
       "      <th>summary_cmu</th>\n",
       "      <th>cleaned</th>\n",
       "    </tr>\n",
       "  </thead>\n",
       "  <tbody>\n",
       "    <tr>\n",
       "      <th>0</th>\n",
       "      <td>Animal Farm</td>\n",
       "      <td>Old Major, the old boar on the Manor Farm, ca...</td>\n",
       "      <td>old major  old boar manor farm  call anim farm...</td>\n",
       "    </tr>\n",
       "    <tr>\n",
       "      <th>7</th>\n",
       "      <td>A Clockwork Orange</td>\n",
       "      <td>Alex, a teenager living in near-future Englan...</td>\n",
       "      <td>alex  teenag live nearfutur england  lead gang...</td>\n",
       "    </tr>\n",
       "    <tr>\n",
       "      <th>12</th>\n",
       "      <td>The Plague</td>\n",
       "      <td>The text of The Plague is divided into five p...</td>\n",
       "      <td>text plagu divid five part  town oran  thousan...</td>\n",
       "    </tr>\n",
       "    <tr>\n",
       "      <th>16</th>\n",
       "      <td>An Enquiry Concerning Human Understanding</td>\n",
       "      <td>The argument of the Enquiry proceeds by a ser...</td>\n",
       "      <td>argument enquiri proce seri increment step  se...</td>\n",
       "    </tr>\n",
       "    <tr>\n",
       "      <th>17</th>\n",
       "      <td>A Fire Upon the Deep</td>\n",
       "      <td>The novel posits that space around the Milky ...</td>\n",
       "      <td>novel posit space around milki way divid conce...</td>\n",
       "    </tr>\n",
       "  </tbody>\n",
       "</table>\n",
       "</div>\n",
       "      <button class=\"colab-df-convert\" onclick=\"convertToInteractive('df-6e89bac4-14f2-410d-b3b6-bef92fb31726')\"\n",
       "              title=\"Convert this dataframe to an interactive table.\"\n",
       "              style=\"display:none;\">\n",
       "        \n",
       "  <svg xmlns=\"http://www.w3.org/2000/svg\" height=\"24px\"viewBox=\"0 0 24 24\"\n",
       "       width=\"24px\">\n",
       "    <path d=\"M0 0h24v24H0V0z\" fill=\"none\"/>\n",
       "    <path d=\"M18.56 5.44l.94 2.06.94-2.06 2.06-.94-2.06-.94-.94-2.06-.94 2.06-2.06.94zm-11 1L8.5 8.5l.94-2.06 2.06-.94-2.06-.94L8.5 2.5l-.94 2.06-2.06.94zm10 10l.94 2.06.94-2.06 2.06-.94-2.06-.94-.94-2.06-.94 2.06-2.06.94z\"/><path d=\"M17.41 7.96l-1.37-1.37c-.4-.4-.92-.59-1.43-.59-.52 0-1.04.2-1.43.59L10.3 9.45l-7.72 7.72c-.78.78-.78 2.05 0 2.83L4 21.41c.39.39.9.59 1.41.59.51 0 1.02-.2 1.41-.59l7.78-7.78 2.81-2.81c.8-.78.8-2.07 0-2.86zM5.41 20L4 18.59l7.72-7.72 1.47 1.35L5.41 20z\"/>\n",
       "  </svg>\n",
       "      </button>\n",
       "      \n",
       "  <style>\n",
       "    .colab-df-container {\n",
       "      display:flex;\n",
       "      flex-wrap:wrap;\n",
       "      gap: 12px;\n",
       "    }\n",
       "\n",
       "    .colab-df-convert {\n",
       "      background-color: #E8F0FE;\n",
       "      border: none;\n",
       "      border-radius: 50%;\n",
       "      cursor: pointer;\n",
       "      display: none;\n",
       "      fill: #1967D2;\n",
       "      height: 32px;\n",
       "      padding: 0 0 0 0;\n",
       "      width: 32px;\n",
       "    }\n",
       "\n",
       "    .colab-df-convert:hover {\n",
       "      background-color: #E2EBFA;\n",
       "      box-shadow: 0px 1px 2px rgba(60, 64, 67, 0.3), 0px 1px 3px 1px rgba(60, 64, 67, 0.15);\n",
       "      fill: #174EA6;\n",
       "    }\n",
       "\n",
       "    [theme=dark] .colab-df-convert {\n",
       "      background-color: #3B4455;\n",
       "      fill: #D2E3FC;\n",
       "    }\n",
       "\n",
       "    [theme=dark] .colab-df-convert:hover {\n",
       "      background-color: #434B5C;\n",
       "      box-shadow: 0px 1px 3px 1px rgba(0, 0, 0, 0.15);\n",
       "      filter: drop-shadow(0px 1px 2px rgba(0, 0, 0, 0.3));\n",
       "      fill: #FFFFFF;\n",
       "    }\n",
       "  </style>\n",
       "\n",
       "      <script>\n",
       "        const buttonEl =\n",
       "          document.querySelector('#df-6e89bac4-14f2-410d-b3b6-bef92fb31726 button.colab-df-convert');\n",
       "        buttonEl.style.display =\n",
       "          google.colab.kernel.accessAllowed ? 'block' : 'none';\n",
       "\n",
       "        async function convertToInteractive(key) {\n",
       "          const element = document.querySelector('#df-6e89bac4-14f2-410d-b3b6-bef92fb31726');\n",
       "          const dataTable =\n",
       "            await google.colab.kernel.invokeFunction('convertToInteractive',\n",
       "                                                     [key], {});\n",
       "          if (!dataTable) return;\n",
       "\n",
       "          const docLinkHtml = 'Like what you see? Visit the ' +\n",
       "            '<a target=\"_blank\" href=https://colab.research.google.com/notebooks/data_table.ipynb>data table notebook</a>'\n",
       "            + ' to learn more about interactive tables.';\n",
       "          element.innerHTML = '';\n",
       "          dataTable['output_type'] = 'display_data';\n",
       "          await google.colab.output.renderOutput(dataTable, element);\n",
       "          const docLink = document.createElement('div');\n",
       "          docLink.innerHTML = docLinkHtml;\n",
       "          element.appendChild(docLink);\n",
       "        }\n",
       "      </script>\n",
       "    </div>\n",
       "  </div>\n",
       "  "
      ],
      "text/plain": [
       "                                    title_cmu  \\\n",
       "0                                 Animal Farm   \n",
       "7                          A Clockwork Orange   \n",
       "12                                 The Plague   \n",
       "16  An Enquiry Concerning Human Understanding   \n",
       "17                       A Fire Upon the Deep   \n",
       "\n",
       "                                          summary_cmu  \\\n",
       "0    Old Major, the old boar on the Manor Farm, ca...   \n",
       "7    Alex, a teenager living in near-future Englan...   \n",
       "12   The text of The Plague is divided into five p...   \n",
       "16   The argument of the Enquiry proceeds by a ser...   \n",
       "17   The novel posits that space around the Milky ...   \n",
       "\n",
       "                                              cleaned  \n",
       "0   old major  old boar manor farm  call anim farm...  \n",
       "7   alex  teenag live nearfutur england  lead gang...  \n",
       "12  text plagu divid five part  town oran  thousan...  \n",
       "16  argument enquiri proce seri increment step  se...  \n",
       "17  novel posit space around milki way divid conce...  "
      ]
     },
     "execution_count": 34,
     "metadata": {},
     "output_type": "execute_result"
    }
   ],
   "source": [
    "cmu_summaries.head()"
   ]
  },
  {
   "cell_type": "code",
   "execution_count": 35,
   "metadata": {
    "id": "CjOHBD7jx5Em"
   },
   "outputs": [],
   "source": [
    "# all_unique_summaries = cmu_summaries['summary_cmu']"
   ]
  },
  {
   "cell_type": "code",
   "execution_count": 36,
   "metadata": {
    "id": "pyNn1Vd_3Qyl"
   },
   "outputs": [],
   "source": [
    "# all_unique_summaries\n"
   ]
  },
  {
   "cell_type": "code",
   "execution_count": 37,
   "metadata": {
    "id": "DeC3dQq9SFRV"
   },
   "outputs": [],
   "source": [
    "# len(cmu_summaries.summary_cmu.unique())/len(cmu_summaries.summary_cmu)"
   ]
  },
  {
   "cell_type": "code",
   "execution_count": 38,
   "metadata": {
    "id": "mdnFUwZEyOoO"
   },
   "outputs": [],
   "source": [
    "# one_summary = all_unique_summaries[0]"
   ]
  },
  {
   "cell_type": "code",
   "execution_count": 39,
   "metadata": {
    "id": "yeoSvlXU0fW1"
   },
   "outputs": [],
   "source": [
    "list_all_summaries = cmu_summaries['cleaned'].tolist()"
   ]
  },
  {
   "cell_type": "code",
   "execution_count": 40,
   "metadata": {
    "colab": {
     "base_uri": "https://localhost:8080/"
    },
    "id": "qaml-kCT2uy9",
    "outputId": "48efd873-4a71-4e9f-e1ae-08eb84380d01"
   },
   "outputs": [
    {
     "data": {
      "text/plain": [
       "11312"
      ]
     },
     "execution_count": 40,
     "metadata": {},
     "output_type": "execute_result"
    }
   ],
   "source": [
    "len(list_all_summaries)"
   ]
  },
  {
   "cell_type": "markdown",
   "metadata": {
    "id": "wkKluyGkw3Ho"
   },
   "source": [
    "# New Section"
   ]
  },
  {
   "cell_type": "code",
   "execution_count": 41,
   "metadata": {
    "id": "P-7ijISgwuPL"
   },
   "outputs": [],
   "source": [
    "module_url = \"https://tfhub.dev/google/universal-sentence-encoder/4\" #@param [\"https://tfhub.dev/google/universal-sentence-encoder/4\", \"https://tfhub.dev/google/universal-sentence-encoder-large/5\"]\n",
    "model = hub.load(module_url)"
   ]
  },
  {
   "cell_type": "code",
   "execution_count": 63,
   "metadata": {
    "id": "tVamCreDSsOm"
   },
   "outputs": [],
   "source": [
    "df_embed = cmu_summaries[[\"title_cmu\", \"cleaned\"]].drop_duplicates()"
   ]
  },
  {
   "cell_type": "code",
   "execution_count": 64,
   "metadata": {
    "id": "a5NlxOLLTEBT"
   },
   "outputs": [],
   "source": [
    "df_embed[\"encoding\"] = df_embed.cleaned.apply(lambda x : model([x]).numpy())"
   ]
  },
  {
   "cell_type": "code",
   "execution_count": 65,
   "metadata": {
    "id": "lIrZfz4jVHXh"
   },
   "outputs": [],
   "source": [
    "df_embed[\"encoding\"] = df_embed.encoding.apply(lambda x : x.reshape(-1))"
   ]
  },
  {
   "cell_type": "code",
   "execution_count": null,
   "metadata": {
    "colab": {
     "base_uri": "https://localhost:8080/"
    },
    "id": "I_xAe-AdUgOS",
    "outputId": "147aaf83-30aa-4487-d3fe-5affdd995bae"
   },
   "outputs": [
    {
     "data": {
      "text/plain": [
       "(512,)"
      ]
     },
     "execution_count": 56,
     "metadata": {},
     "output_type": "execute_result"
    }
   ],
   "source": [
    "# df_embed.encoding.iloc[0].reshape(-1).shape"
   ]
  },
  {
   "cell_type": "code",
   "execution_count": 61,
   "metadata": {
    "id": "cMQeGF9qU4GR"
   },
   "outputs": [],
   "source": [
    "df_embed = df_embed.drop(columns=[\"cleaned\"])"
   ]
  },
  {
   "cell_type": "code",
   "execution_count": 66,
   "metadata": {
    "id": "GYkNFtlCUJQW"
   },
   "outputs": [],
   "source": [
    "df_embed.to_parquet(\"./encoding2_cleaned_summaries.parquet\")"
   ]
  },
  {
   "cell_type": "code",
   "execution_count": null,
   "metadata": {
    "id": "si3UwetvVVzn"
   },
   "outputs": [],
   "source": []
  },
  {
   "cell_type": "code",
   "execution_count": 42,
   "metadata": {
    "id": "A3kQp6_1wuST"
   },
   "outputs": [],
   "source": [
    "summary_embedding = [model([x]) for x in list_all_summaries]"
   ]
  },
  {
   "cell_type": "code",
   "execution_count": 43,
   "metadata": {
    "id": "xRurlKYlwuXE"
   },
   "outputs": [],
   "source": [
    "embedding_list_tensor = tf.concat(summary_embedding,axis = 0)"
   ]
  },
  {
   "cell_type": "code",
   "execution_count": 44,
   "metadata": {
    "colab": {
     "base_uri": "https://localhost:8080/"
    },
    "id": "CGHtjqWw-pjG",
    "outputId": "21bcf1dd-0b89-4897-bc0c-8e67b03b0c76"
   },
   "outputs": [
    {
     "data": {
      "text/plain": [
       "TensorShape([11312, 512])"
      ]
     },
     "execution_count": 44,
     "metadata": {},
     "output_type": "execute_result"
    }
   ],
   "source": [
    "embedding_list_tensor.shape"
   ]
  },
  {
   "cell_type": "code",
   "execution_count": 45,
   "metadata": {
    "id": "66BZrl66wuZd"
   },
   "outputs": [],
   "source": [
    "def plot_similarity(labels, features, rotation):\n",
    "  corr = np.inner(features, features)\n",
    "  sns.set(font_scale=1.2)\n",
    "  g = sns.heatmap(\n",
    "      corr,\n",
    "      xticklabels=labels,\n",
    "      yticklabels=labels,\n",
    "      vmin=0,\n",
    "      vmax=1,\n",
    "      cmap=\"YlOrRd\")\n",
    "  g.set_xticklabels(labels, rotation=rotation)\n",
    "  g.set_title(\"Semantic Textual Similarity\")\n",
    "\n",
    "def run_and_plot(messages_):\n",
    "  message_embeddings_ = embed(messages_)\n",
    "  plot_similarity(messages_, message_embeddings_, 90)"
   ]
  },
  {
   "cell_type": "code",
   "execution_count": 46,
   "metadata": {
    "colab": {
     "base_uri": "https://localhost:8080/"
    },
    "id": "APDUNYZ6ABRg",
    "outputId": "b3d7935e-19c2-41e7-d4fd-5acb3ca95443"
   },
   "outputs": [
    {
     "data": {
      "text/plain": [
       "<tf.Tensor: shape=(10, 512), dtype=float32, numpy=\n",
       "array([[ 0.03993112, -0.04536719, -0.01010615, ..., -0.04536719,\n",
       "        -0.04536719,  0.04536703],\n",
       "       [ 0.04523629, -0.04591964, -0.04587054, ..., -0.04591964,\n",
       "        -0.04591946, -0.04591006],\n",
       "       [ 0.03912394, -0.04686896, -0.04685051, ..., -0.04686892,\n",
       "        -0.0468669 , -0.00934443],\n",
       "       ...,\n",
       "       [ 0.04843707, -0.04843888, -0.04837332, ..., -0.04834193,\n",
       "         0.04813344,  0.00518251],\n",
       "       [ 0.02700822, -0.03594228, -0.01120591, ...,  0.01917521,\n",
       "         0.08372778, -0.03007337],\n",
       "       [-0.02207264, -0.05643287,  0.0358031 , ...,  0.05272576,\n",
       "         0.05815875,  0.01055826]], dtype=float32)>"
      ]
     },
     "execution_count": 46,
     "metadata": {},
     "output_type": "execute_result"
    }
   ],
   "source": [
    "embedding_list_tensor[:10]"
   ]
  },
  {
   "cell_type": "code",
   "execution_count": 47,
   "metadata": {
    "id": "lriNkVyHBRt8"
   },
   "outputs": [],
   "source": [
    "book_names = cmu_summaries['title_cmu'].tolist()"
   ]
  },
  {
   "cell_type": "code",
   "execution_count": null,
   "metadata": {
    "id": "qZvQWE6HODMc"
   },
   "outputs": [],
   "source": []
  },
  {
   "cell_type": "code",
   "execution_count": 48,
   "metadata": {
    "colab": {
     "base_uri": "https://localhost:8080/",
     "height": 583
    },
    "id": "mW0Ej-6DwucQ",
    "outputId": "b1121867-2173-4596-cb60-91d812c4e82a"
   },
   "outputs": [
    {
     "data": {
      "image/png": "[encoded data removed]",
      "text/plain": [
       "<Figure size 432x288 with 2 Axes>"
      ]
     },
     "metadata": {},
     "output_type": "display_data"
    }
   ],
   "source": [
    "plot_similarity(book_names[:100], embedding_list_tensor[:100], 90)"
   ]
  },
  {
   "cell_type": "code",
   "execution_count": null,
   "metadata": {
    "id": "3Bn9I_aJOCoF"
   },
   "outputs": [],
   "source": []
  },
  {
   "cell_type": "code",
   "execution_count": 49,
   "metadata": {
    "id": "FfqSaU3Jwud4"
   },
   "outputs": [],
   "source": [
    "corr = np.inner(embedding_list_tensor[:100],embedding_list_tensor[:100])"
   ]
  },
  {
   "cell_type": "code",
   "execution_count": null,
   "metadata": {
    "id": "oWoqEXhVCc8Z"
   },
   "outputs": [],
   "source": []
  },
  {
   "cell_type": "code",
   "execution_count": null,
   "metadata": {
    "id": "jyydSIfsCnp4"
   },
   "outputs": [],
   "source": []
  },
  {
   "cell_type": "code",
   "execution_count": 50,
   "metadata": {
    "id": "Gl4y9FAvDGrW"
   },
   "outputs": [],
   "source": [
    "for i in range(corr.shape[0]):\n",
    "  corr[i][i] = -2"
   ]
  },
  {
   "cell_type": "code",
   "execution_count": 51,
   "metadata": {
    "colab": {
     "base_uri": "https://localhost:8080/"
    },
    "id": "uM8UcjkbC5nf",
    "outputId": "6c182c9e-2d4d-4e26-a139-a78f2cc5ec57"
   },
   "outputs": [
    {
     "data": {
      "text/plain": [
       "2139"
      ]
     },
     "execution_count": 51,
     "metadata": {},
     "output_type": "execute_result"
    }
   ],
   "source": [
    "corr.argmax()"
   ]
  },
  {
   "cell_type": "code",
   "execution_count": 52,
   "metadata": {
    "colab": {
     "base_uri": "https://localhost:8080/"
    },
    "id": "xqToMeQ3C9_t",
    "outputId": "863bfefd-025d-4e9d-9285-25846827e051"
   },
   "outputs": [
    {
     "data": {
      "text/plain": [
       "0.87868124"
      ]
     },
     "execution_count": 52,
     "metadata": {},
     "output_type": "execute_result"
    }
   ],
   "source": [
    "corr[corr.argmax()//corr.shape[1]][corr.argmax()%corr.shape[1]]"
   ]
  },
  {
   "cell_type": "code",
   "execution_count": 53,
   "metadata": {
    "colab": {
     "base_uri": "https://localhost:8080/"
    },
    "id": "L2yYnjUuDmDC",
    "outputId": "9674e0ed-bae5-45aa-8a98-671fd126d72b"
   },
   "outputs": [
    {
     "data": {
      "text/plain": [
       "21"
      ]
     },
     "execution_count": 53,
     "metadata": {},
     "output_type": "execute_result"
    }
   ],
   "source": [
    "corr.argmax()//corr.shape[1]"
   ]
  },
  {
   "cell_type": "code",
   "execution_count": 54,
   "metadata": {
    "colab": {
     "base_uri": "https://localhost:8080/"
    },
    "id": "O4PYIbGdDr2-",
    "outputId": "1e02a6a7-139d-4565-f5c8-f77b8b16cd71"
   },
   "outputs": [
    {
     "data": {
      "text/plain": [
       "39"
      ]
     },
     "execution_count": 54,
     "metadata": {},
     "output_type": "execute_result"
    }
   ],
   "source": [
    "corr.argmax()%corr.shape[1]"
   ]
  },
  {
   "cell_type": "code",
   "execution_count": 55,
   "metadata": {
    "colab": {
     "base_uri": "https://localhost:8080/",
     "height": 35
    },
    "id": "BKCdUu9xOVRn",
    "outputId": "b8c32146-b910-403f-b2df-bcdab09c8359"
   },
   "outputs": [
    {
     "data": {
      "application/vnd.google.colaboratory.intrinsic+json": {
       "type": "string"
      },
      "text/plain": [
       "'Chapterhouse Dune'"
      ]
     },
     "execution_count": 55,
     "metadata": {},
     "output_type": "execute_result"
    }
   ],
   "source": [
    "book_names[21]"
   ]
  },
  {
   "cell_type": "code",
   "execution_count": 56,
   "metadata": {
    "colab": {
     "base_uri": "https://localhost:8080/",
     "height": 122
    },
    "id": "bua1iJSWDuMq",
    "outputId": "300888b5-45b2-430c-d024-085ed521a264"
   },
   "outputs": [
    {
     "data": {
      "application/vnd.google.colaboratory.intrinsic+json": {
       "type": "string"
      },
      "text/plain": [
       "'situat desper bene gesserit find target honor matr  whose conquest old empir almost complet  matr seek assimil technolog develop method bene gesserit extermin sisterhood  command bene gesserit  mother superior darwi odrad continu develop drastic  secret plan overcom honor matr  bene gesserit also terraform planet chapterhous accommod allimport sandworm  whose nativ planet dune destroy matr  sheeana  charg project  expect sandworm appear soon  honor matr also destroy entir bene tleilax civil  tleilaxu master scytal one kind left aliv  bene gesserit captiv  scytal possess tleilaxu secret ghola product  reluctantli trade sisterhood protect  first ghola produc recentlydeceas militari geniu  mile teg  bene gesserit two prison chapterhous  latest duncan idaho ghola  former honor matr murbella  accept novic despit suspicion intend escap back honor matr  lampada  center bene gesserit educ  destroy honor matr  planet chancellor  reverend mother lucilla  manag escap carri sharedmind million reverend mother  lucilla forc land gammu seek refug underground group jew  rabbi give lucilla sanctuari  save organ must deliv matr   reveal rebecca   wild  reverend mother gain memori without bene gesserit train  lucilla share mind rebecca  promis take memori lampada safe back sisterhood  lucilla  betray   taken great honor matr dama  tri persuad join honor matr  preserv life exchang bene gesserit secret  lucilla refus  dama ultim kill  back chapterhous  odrad confront duncan forc admit mentat  prove retain memori mani ghola live  reveal mysteri vision two peopl  meanwhil  murbella collaps pressur bene gesserit train  give  word weapon  bene gesserit plant undermin earlier honor matr ident  murbella realiz want bene gesserit  odrad believ bene gesserit made mistak fear emot  order evolv  bene gesserit must learn accept emot  odrad permit duncan watch murbella undergo spice agoni  make first man ever  murbella surviv ordeal becom reverend mother  odrad confront sheeana  discov duncan sheeana alli togeth time  sheeana reveal consid option reawaken teg memori imprint  odrad discov sheeana key duncan noship prison  odrad continu mold scytal  sheeana show babi sandworm  bene gesserit long term suppli spice  destroy scytal main bargain card  final  teg awaken sheeana use imprint techniqu  odrad appoint bashar militari forc sisterhood assault honor matr  odrad next call meet bene gesserit  announc plan attack honor matr  tell attack led teg  also announc candid succeed mother superior  share memori murbella sheeana leav  odrad goe meet great honor matr  cover odrad diplomaci  bene gesserit forc teg attack gammu tremend forc  teg use secret abil see noship secur control system  survivor attack flee junction  teg follow carri  victori bene gesserit seem inevit  midst battl  jew  includ rebecca preciou memori  take refug bene gesserit fleet  logno  mdash  chief advisor dama  mdash  assassin dama poison assum control honor matr  first act surpris odrad greatli  late odrad teg realiz fallen trap  honor matr use mysteri weapon turn defeat victori  well captur odrad  murbella save much bene gesserit forc begin withdraw chapterhous  odrad  howev  plan possibl failur bene gesserit attack left murbella instruct last desper gambl  murbella pilot small craft surfac  announc honor matr  confus  manag escap bene gesserit secret  arriv planet taken great honor matr  unabl control anger  logno attack kill murbella  awe physic prowess  remain honor matr forc accept new leader  odrad also kill mele murbella share memori  therebi also becom reverend mother superior  murbella ascens leadership accept victori bene gesserit  flee chapterhous  notabl sheeana  vision  join duncan  two escap giant noship  scytal  teg jew  murbella recogn plan last minut  powerless stop  watch escap interest daniel marti  observ duncan vision  stori end cliffhang sever question left unansw regard merg honor matr bene gesserit  fate escap noship  includ role scytal  develop idaho teg  role jew   ident godlik charact book final chapter ultim mysteri chase honor matr back old empir '"
      ]
     },
     "execution_count": 56,
     "metadata": {},
     "output_type": "execute_result"
    }
   ],
   "source": [
    "list_all_summaries[21]"
   ]
  },
  {
   "cell_type": "code",
   "execution_count": null,
   "metadata": {
    "colab": {
     "base_uri": "https://localhost:8080/",
     "height": 35
    },
    "id": "7cl7One8OXzs",
    "outputId": "012a7f65-0bdf-46de-a4b4-ad099ddb4cb1"
   },
   "outputs": [
    {
     "data": {
      "application/vnd.google.colaboratory.intrinsic+json": {
       "type": "string"
      },
      "text/plain": [
       "'Heretics of Dune'"
      ]
     },
     "execution_count": 36,
     "metadata": {},
     "output_type": "execute_result"
    }
   ],
   "source": [
    "book_names[39]"
   ]
  },
  {
   "cell_type": "code",
   "execution_count": null,
   "metadata": {
    "colab": {
     "base_uri": "https://localhost:8080/",
     "height": 122
    },
    "id": "_IIaXFljD2MG",
    "outputId": "5f35ea89-7240-4520-cdab-39d3f2964db4"
   },
   "outputs": [
    {
     "data": {
      "application/vnd.google.colaboratory.intrinsic+json": {
       "type": "string"
      },
      "text/plain": [
       "\" Much has changed in the millennium and a half since the death of the God Emperor. Sandworms have reappeared on Arrakis (now called Rakis) and renewed the flow of the all-important spice melange to the galaxy. With Leto's death, a hugely complex economic system built on spice collapsed, resulting in trillions leaving known space in a great Scattering. A new civilization has risen, with three dominant powers: the Ixians, whose no-ships are capable of piloting between the stars and are invisible to outside detection; the Bene Tleilax, who have learned to manufacture spice in their axlotl tanks and have created a new breed of Face Dancers; and the Bene Gesserit, a matriarchal order of subtle political manipulators who possess superhuman abilities. However, people from the Scattering are returning with their own peculiar powers. The most powerful of these forces are the Honored Matres, a violent society of women bred and trained for combat and the sexual control of men. On Rakis, a girl called Sheeana has been discovered who can control the giant worms. The Bene Gesserit intends to use a Tleilaxu-provided Duncan Idaho ghola to gain control of this sandrider, and the religious forces of mankind who they know will ultimately worship her. The Sisterhood have subtly been altering the gholas to bring their physical reflexes up to modern standards. The Bene Gesserit leader, Mother Superior Taraza, brings Miles Teg to guard the new Idaho. Taraza also sends Reverend Mother Darwi Odrade to take command of the Bene Gesserit keep on Rakis. Odrade is a loose cannon; she does not obey normal Bene Gesserit prohibitions about love, and is also Teg's biological daughter. Bene Gesserit Imprinter Lucilla is also sent by Taraza to bind Idaho's loyalty to the Sisterhood with her sexual talents. However, Lucilla must deal with Reverend Mother Schwangyu, head of the ghola project but also the leader of a faction within the Bene Gesserit who feel gholas are a danger. Above the planet Gammu, Taraza is captured and held hostage by the Honored Matres aboard an Ixian no-ship. The Honored Matres insist Taraza invite Teg to the ship, hoping to gain control of the ghola project. Teg manages to turn the tables on the Matres, and rescues the Mother Superior and her party. An attack is then made on Sheeana on Rakis, which is prevented by the intervention of the Bene Gesserit. Odrade starts training Sheeana as a Bene Gesserit. At about the same time an attempt is made on the life of Idaho, but Teg is able to defeat it. Teg flees with Duncan and Lucilla into the countryside. In an ancient Harkonnen no-globe, Teg proceeds to awaken Idaho's original memories, but does so before Lucilla can imprint Duncan and thus tie him to the Sisterhood. In the meantime, Taraza has been searching for Teg and his party, and finally establishes contact. During the operation, however, Teg and his companions are ambushed. Teg is captured while Lucilla and Duncan escape. Teg is tortured by a T-Probe, but under pressure discovers a new ability: he is able to speed up his physical and mental reactions, which enables him to escape. At the same time, Idaho is ambushed and taken hostage. Taraza arranges a meeting with the Tleilaxu Master Waff, who is soon forced to tell her what he knows about the Honored Matres. When pressed on the issue of Idaho, he also admits that the Bene Tleilax have conditioned their own agenda into him. As the meeting draws to a close, Taraza accidentally divines that Waff is a Zensunni, giving the Bene Gesserit a lever to understand their ancient competitor. She and Odrade meet Waff again on Rakis. He tries to assassinate Taraza but Odrade convinces him that the Sisterhood shares the religious beliefs of the Bene Tleilax. Taraza offers full alliance with them against the onslaught of forces out of the Scattering. This agreement causes consternation among the Bene Gesserit, but Odrade realizes that Taraza's plan is to destroy Rakis. By destroying the planet, the Bene Gesserit would be dependent on the Tleilaxu for the spice, ensuring an alliance. Lucilla arrives at a Bene Gesserit safe house to discover it has been taken over by Honored Matres, who have Idaho as their captive. As Lucilla infiltrates it, the young Honored Matre Murbella proceeds to seduce the captured Idaho with the Honored Matre imprinting method. However, hidden Tleilaxu conditioning kicks in, and Duncan responds with an equal technique, one that overwhelms Murbella. Lucilla takes advantage of Murbella's exhaustion to knock her unconscious and rescue Duncan. The Honored Matres attack Rakis, killing Taraza. Odrade becomes temporary leader of the Bene Gesserit before escaping with Sheeana into the desert on a worm. Teg also goes to a supposed safe house, only to discover the Honored Matres. He unleashes himself upon the complex, before capturing a no-ship and locating Duncan and Lucilla. They and the captured Murbella are taken to Rakis with him. When they arrive, Teg finds Odrade and Sheeana and their giant worm. He loads them all up in his no-ship, finally leading his troops out on a last suicidal defense of Rakis, designed to attract the rage of the Honored Matres. The Honored Matres attack Rakis, destroying the planet and the sandworms except for the one the Bene Gesserit escape with. They drown the worm in a mixture of water and spice, turning it into sandtrout which will turn the secret Bene Gesserit planet Chapterhouse into another Dune.\""
      ]
     },
     "execution_count": 37,
     "metadata": {},
     "output_type": "execute_result"
    }
   ],
   "source": [
    "list_all_summaries[39]"
   ]
  },
  {
   "cell_type": "code",
   "execution_count": null,
   "metadata": {
    "colab": {
     "base_uri": "https://localhost:8080/",
     "height": 337
    },
    "id": "tQZNFfvKET3s",
    "outputId": "37755b4d-59a0-47c9-f8f6-8d0fd114f908"
   },
   "outputs": [
    {
     "data": {
      "text/html": [
       "\n",
       "  <div id=\"df-8366c66e-e0e3-4f45-a74d-8e439b709106\">\n",
       "    <div class=\"colab-df-container\">\n",
       "      <div>\n",
       "<style scoped>\n",
       "    .dataframe tbody tr th:only-of-type {\n",
       "        vertical-align: middle;\n",
       "    }\n",
       "\n",
       "    .dataframe tbody tr th {\n",
       "        vertical-align: top;\n",
       "    }\n",
       "\n",
       "    .dataframe thead th {\n",
       "        text-align: right;\n",
       "    }\n",
       "</style>\n",
       "<table border=\"1\" class=\"dataframe\">\n",
       "  <thead>\n",
       "    <tr style=\"text-align: right;\">\n",
       "      <th></th>\n",
       "      <th>wiki_id</th>\n",
       "      <th>title_goog</th>\n",
       "      <th>title_cmu</th>\n",
       "      <th>key</th>\n",
       "      <th>publisher</th>\n",
       "      <th>rating</th>\n",
       "      <th>num_ratings</th>\n",
       "      <th>summary_cmu</th>\n",
       "      <th>summary_goog</th>\n",
       "      <th>genre</th>\n",
       "    </tr>\n",
       "  </thead>\n",
       "  <tbody>\n",
       "    <tr>\n",
       "      <th>76</th>\n",
       "      <td>6630.0</td>\n",
       "      <td>chapterhousedune</td>\n",
       "      <td>Chapterhouse Dune</td>\n",
       "      <td>chapterhousedune</td>\n",
       "      <td>Penguin</td>\n",
       "      <td>4.0</td>\n",
       "      <td>5</td>\n",
       "      <td>The situation is desperate for the Bene Gesse...</td>\n",
       "      <td>Fifteen thousand years after Leto II's death, ...</td>\n",
       "      <td>{'/m/06n90': 'Science Fiction', '/m/014dfn': '...</td>\n",
       "    </tr>\n",
       "    <tr>\n",
       "      <th>77</th>\n",
       "      <td>6630.0</td>\n",
       "      <td>chapterhousedune</td>\n",
       "      <td>Chapterhouse Dune</td>\n",
       "      <td>chapterhousedune</td>\n",
       "      <td>Ace Hardcover</td>\n",
       "      <td>3.0</td>\n",
       "      <td>18</td>\n",
       "      <td>The situation is desperate for the Bene Gesse...</td>\n",
       "      <td>A lavishly bound re-release of a final entry i...</td>\n",
       "      <td>{'/m/06n90': 'Science Fiction', '/m/014dfn': '...</td>\n",
       "    </tr>\n",
       "    <tr>\n",
       "      <th>78</th>\n",
       "      <td>6630.0</td>\n",
       "      <td>chapterhousedune</td>\n",
       "      <td>Chapterhouse Dune</td>\n",
       "      <td>chapterhousedune</td>\n",
       "      <td>Turtleback</td>\n",
       "      <td>3.0</td>\n",
       "      <td>17</td>\n",
       "      <td>The situation is desperate for the Bene Gesse...</td>\n",
       "      <td>Fifteen thousand years after Leto II's death, ...</td>\n",
       "      <td>{'/m/06n90': 'Science Fiction', '/m/014dfn': '...</td>\n",
       "    </tr>\n",
       "    <tr>\n",
       "      <th>79</th>\n",
       "      <td>6630.0</td>\n",
       "      <td>chapterhousedune</td>\n",
       "      <td>Chapterhouse Dune</td>\n",
       "      <td>chapterhousedune</td>\n",
       "      <td>Macmillan</td>\n",
       "      <td>3.0</td>\n",
       "      <td>9</td>\n",
       "      <td>The situation is desperate for the Bene Gesse...</td>\n",
       "      <td>When his wife and children are killed by a ter...</td>\n",
       "      <td>{'/m/06n90': 'Science Fiction', '/m/014dfn': '...</td>\n",
       "    </tr>\n",
       "    <tr>\n",
       "      <th>80</th>\n",
       "      <td>6630.0</td>\n",
       "      <td>chapterhousedune</td>\n",
       "      <td>Chapterhouse Dune</td>\n",
       "      <td>chapterhousedune</td>\n",
       "      <td>Penguin</td>\n",
       "      <td>4.0</td>\n",
       "      <td>276</td>\n",
       "      <td>The situation is desperate for the Bene Gesse...</td>\n",
       "      <td>NOW A MAJOR MOTION PICTURE directed by Denis V...</td>\n",
       "      <td>{'/m/06n90': 'Science Fiction', '/m/014dfn': '...</td>\n",
       "    </tr>\n",
       "  </tbody>\n",
       "</table>\n",
       "</div>\n",
       "      <button class=\"colab-df-convert\" onclick=\"convertToInteractive('df-8366c66e-e0e3-4f45-a74d-8e439b709106')\"\n",
       "              title=\"Convert this dataframe to an interactive table.\"\n",
       "              style=\"display:none;\">\n",
       "        \n",
       "  <svg xmlns=\"http://www.w3.org/2000/svg\" height=\"24px\"viewBox=\"0 0 24 24\"\n",
       "       width=\"24px\">\n",
       "    <path d=\"M0 0h24v24H0V0z\" fill=\"none\"/>\n",
       "    <path d=\"M18.56 5.44l.94 2.06.94-2.06 2.06-.94-2.06-.94-.94-2.06-.94 2.06-2.06.94zm-11 1L8.5 8.5l.94-2.06 2.06-.94-2.06-.94L8.5 2.5l-.94 2.06-2.06.94zm10 10l.94 2.06.94-2.06 2.06-.94-2.06-.94-.94-2.06-.94 2.06-2.06.94z\"/><path d=\"M17.41 7.96l-1.37-1.37c-.4-.4-.92-.59-1.43-.59-.52 0-1.04.2-1.43.59L10.3 9.45l-7.72 7.72c-.78.78-.78 2.05 0 2.83L4 21.41c.39.39.9.59 1.41.59.51 0 1.02-.2 1.41-.59l7.78-7.78 2.81-2.81c.8-.78.8-2.07 0-2.86zM5.41 20L4 18.59l7.72-7.72 1.47 1.35L5.41 20z\"/>\n",
       "  </svg>\n",
       "      </button>\n",
       "      \n",
       "  <style>\n",
       "    .colab-df-container {\n",
       "      display:flex;\n",
       "      flex-wrap:wrap;\n",
       "      gap: 12px;\n",
       "    }\n",
       "\n",
       "    .colab-df-convert {\n",
       "      background-color: #E8F0FE;\n",
       "      border: none;\n",
       "      border-radius: 50%;\n",
       "      cursor: pointer;\n",
       "      display: none;\n",
       "      fill: #1967D2;\n",
       "      height: 32px;\n",
       "      padding: 0 0 0 0;\n",
       "      width: 32px;\n",
       "    }\n",
       "\n",
       "    .colab-df-convert:hover {\n",
       "      background-color: #E2EBFA;\n",
       "      box-shadow: 0px 1px 2px rgba(60, 64, 67, 0.3), 0px 1px 3px 1px rgba(60, 64, 67, 0.15);\n",
       "      fill: #174EA6;\n",
       "    }\n",
       "\n",
       "    [theme=dark] .colab-df-convert {\n",
       "      background-color: #3B4455;\n",
       "      fill: #D2E3FC;\n",
       "    }\n",
       "\n",
       "    [theme=dark] .colab-df-convert:hover {\n",
       "      background-color: #434B5C;\n",
       "      box-shadow: 0px 1px 3px 1px rgba(0, 0, 0, 0.15);\n",
       "      filter: drop-shadow(0px 1px 2px rgba(0, 0, 0, 0.3));\n",
       "      fill: #FFFFFF;\n",
       "    }\n",
       "  </style>\n",
       "\n",
       "      <script>\n",
       "        const buttonEl =\n",
       "          document.querySelector('#df-8366c66e-e0e3-4f45-a74d-8e439b709106 button.colab-df-convert');\n",
       "        buttonEl.style.display =\n",
       "          google.colab.kernel.accessAllowed ? 'block' : 'none';\n",
       "\n",
       "        async function convertToInteractive(key) {\n",
       "          const element = document.querySelector('#df-8366c66e-e0e3-4f45-a74d-8e439b709106');\n",
       "          const dataTable =\n",
       "            await google.colab.kernel.invokeFunction('convertToInteractive',\n",
       "                                                     [key], {});\n",
       "          if (!dataTable) return;\n",
       "\n",
       "          const docLinkHtml = 'Like what you see? Visit the ' +\n",
       "            '<a target=\"_blank\" href=https://colab.research.google.com/notebooks/data_table.ipynb>data table notebook</a>'\n",
       "            + ' to learn more about interactive tables.';\n",
       "          element.innerHTML = '';\n",
       "          dataTable['output_type'] = 'display_data';\n",
       "          await google.colab.output.renderOutput(dataTable, element);\n",
       "          const docLink = document.createElement('div');\n",
       "          docLink.innerHTML = docLinkHtml;\n",
       "          element.appendChild(docLink);\n",
       "        }\n",
       "      </script>\n",
       "    </div>\n",
       "  </div>\n",
       "  "
      ],
      "text/plain": [
       "    wiki_id        title_goog          title_cmu               key  \\\n",
       "76   6630.0  chapterhousedune  Chapterhouse Dune  chapterhousedune   \n",
       "77   6630.0  chapterhousedune  Chapterhouse Dune  chapterhousedune   \n",
       "78   6630.0  chapterhousedune  Chapterhouse Dune  chapterhousedune   \n",
       "79   6630.0  chapterhousedune  Chapterhouse Dune  chapterhousedune   \n",
       "80   6630.0  chapterhousedune  Chapterhouse Dune  chapterhousedune   \n",
       "\n",
       "        publisher  rating  num_ratings  \\\n",
       "76        Penguin     4.0            5   \n",
       "77  Ace Hardcover     3.0           18   \n",
       "78     Turtleback     3.0           17   \n",
       "79      Macmillan     3.0            9   \n",
       "80        Penguin     4.0          276   \n",
       "\n",
       "                                          summary_cmu  \\\n",
       "76   The situation is desperate for the Bene Gesse...   \n",
       "77   The situation is desperate for the Bene Gesse...   \n",
       "78   The situation is desperate for the Bene Gesse...   \n",
       "79   The situation is desperate for the Bene Gesse...   \n",
       "80   The situation is desperate for the Bene Gesse...   \n",
       "\n",
       "                                         summary_goog  \\\n",
       "76  Fifteen thousand years after Leto II's death, ...   \n",
       "77  A lavishly bound re-release of a final entry i...   \n",
       "78  Fifteen thousand years after Leto II's death, ...   \n",
       "79  When his wife and children are killed by a ter...   \n",
       "80  NOW A MAJOR MOTION PICTURE directed by Denis V...   \n",
       "\n",
       "                                                genre  \n",
       "76  {'/m/06n90': 'Science Fiction', '/m/014dfn': '...  \n",
       "77  {'/m/06n90': 'Science Fiction', '/m/014dfn': '...  \n",
       "78  {'/m/06n90': 'Science Fiction', '/m/014dfn': '...  \n",
       "79  {'/m/06n90': 'Science Fiction', '/m/014dfn': '...  \n",
       "80  {'/m/06n90': 'Science Fiction', '/m/014dfn': '...  "
      ]
     },
     "execution_count": 38,
     "metadata": {},
     "output_type": "execute_result"
    }
   ],
   "source": [
    "data_df[data_df['summary_cmu']==list_all_summaries[21]]"
   ]
  },
  {
   "cell_type": "code",
   "execution_count": null,
   "metadata": {
    "colab": {
     "base_uri": "https://localhost:8080/",
     "height": 288
    },
    "id": "gIjwwbnwEbz9",
    "outputId": "161f96d8-375e-44c9-af2c-9390b8d3962c"
   },
   "outputs": [
    {
     "data": {
      "text/html": [
       "\n",
       "  <div id=\"df-3605198a-abbe-462a-9817-714b4b7cd832\">\n",
       "    <div class=\"colab-df-container\">\n",
       "      <div>\n",
       "<style scoped>\n",
       "    .dataframe tbody tr th:only-of-type {\n",
       "        vertical-align: middle;\n",
       "    }\n",
       "\n",
       "    .dataframe tbody tr th {\n",
       "        vertical-align: top;\n",
       "    }\n",
       "\n",
       "    .dataframe thead th {\n",
       "        text-align: right;\n",
       "    }\n",
       "</style>\n",
       "<table border=\"1\" class=\"dataframe\">\n",
       "  <thead>\n",
       "    <tr style=\"text-align: right;\">\n",
       "      <th></th>\n",
       "      <th>wiki_id</th>\n",
       "      <th>title_goog</th>\n",
       "      <th>title_cmu</th>\n",
       "      <th>key</th>\n",
       "      <th>publisher</th>\n",
       "      <th>rating</th>\n",
       "      <th>num_ratings</th>\n",
       "      <th>summary_cmu</th>\n",
       "      <th>summary_goog</th>\n",
       "      <th>genre</th>\n",
       "    </tr>\n",
       "  </thead>\n",
       "  <tbody>\n",
       "    <tr>\n",
       "      <th>152</th>\n",
       "      <td>13871.0</td>\n",
       "      <td>hereticsofdune</td>\n",
       "      <td>Heretics of Dune</td>\n",
       "      <td>hereticsofdune</td>\n",
       "      <td>Penguin</td>\n",
       "      <td>3.5</td>\n",
       "      <td>19</td>\n",
       "      <td>Much has changed in the millennium and a half...</td>\n",
       "      <td>Book Five in the Magnificent Dune Chroniclesâ€...</td>\n",
       "      <td>{'/m/06n90': 'Science Fiction', '/m/014dfn': '...</td>\n",
       "    </tr>\n",
       "    <tr>\n",
       "      <th>153</th>\n",
       "      <td>13871.0</td>\n",
       "      <td>hereticsofdune</td>\n",
       "      <td>Heretics of Dune</td>\n",
       "      <td>hereticsofdune</td>\n",
       "      <td>Demco Media</td>\n",
       "      <td>3.5</td>\n",
       "      <td>19</td>\n",
       "      <td>Much has changed in the millennium and a half...</td>\n",
       "      <td>Thousands of years after the death of God Empe...</td>\n",
       "      <td>{'/m/06n90': 'Science Fiction', '/m/014dfn': '...</td>\n",
       "    </tr>\n",
       "    <tr>\n",
       "      <th>154</th>\n",
       "      <td>13871.0</td>\n",
       "      <td>hereticsofdune</td>\n",
       "      <td>Heretics of Dune</td>\n",
       "      <td>hereticsofdune</td>\n",
       "      <td>Penguin</td>\n",
       "      <td>4.0</td>\n",
       "      <td>5</td>\n",
       "      <td>Much has changed in the millennium and a half...</td>\n",
       "      <td>Fifteen thousand years after Leto II's death, ...</td>\n",
       "      <td>{'/m/06n90': 'Science Fiction', '/m/014dfn': '...</td>\n",
       "    </tr>\n",
       "    <tr>\n",
       "      <th>155</th>\n",
       "      <td>13871.0</td>\n",
       "      <td>hereticsofdune</td>\n",
       "      <td>Heretics of Dune</td>\n",
       "      <td>hereticsofdune</td>\n",
       "      <td>Macmillan</td>\n",
       "      <td>3.0</td>\n",
       "      <td>9</td>\n",
       "      <td>Much has changed in the millennium and a half...</td>\n",
       "      <td>When his wife and children are killed by a ter...</td>\n",
       "      <td>{'/m/06n90': 'Science Fiction', '/m/014dfn': '...</td>\n",
       "    </tr>\n",
       "  </tbody>\n",
       "</table>\n",
       "</div>\n",
       "      <button class=\"colab-df-convert\" onclick=\"convertToInteractive('df-3605198a-abbe-462a-9817-714b4b7cd832')\"\n",
       "              title=\"Convert this dataframe to an interactive table.\"\n",
       "              style=\"display:none;\">\n",
       "        \n",
       "  <svg xmlns=\"http://www.w3.org/2000/svg\" height=\"24px\"viewBox=\"0 0 24 24\"\n",
       "       width=\"24px\">\n",
       "    <path d=\"M0 0h24v24H0V0z\" fill=\"none\"/>\n",
       "    <path d=\"M18.56 5.44l.94 2.06.94-2.06 2.06-.94-2.06-.94-.94-2.06-.94 2.06-2.06.94zm-11 1L8.5 8.5l.94-2.06 2.06-.94-2.06-.94L8.5 2.5l-.94 2.06-2.06.94zm10 10l.94 2.06.94-2.06 2.06-.94-2.06-.94-.94-2.06-.94 2.06-2.06.94z\"/><path d=\"M17.41 7.96l-1.37-1.37c-.4-.4-.92-.59-1.43-.59-.52 0-1.04.2-1.43.59L10.3 9.45l-7.72 7.72c-.78.78-.78 2.05 0 2.83L4 21.41c.39.39.9.59 1.41.59.51 0 1.02-.2 1.41-.59l7.78-7.78 2.81-2.81c.8-.78.8-2.07 0-2.86zM5.41 20L4 18.59l7.72-7.72 1.47 1.35L5.41 20z\"/>\n",
       "  </svg>\n",
       "      </button>\n",
       "      \n",
       "  <style>\n",
       "    .colab-df-container {\n",
       "      display:flex;\n",
       "      flex-wrap:wrap;\n",
       "      gap: 12px;\n",
       "    }\n",
       "\n",
       "    .colab-df-convert {\n",
       "      background-color: #E8F0FE;\n",
       "      border: none;\n",
       "      border-radius: 50%;\n",
       "      cursor: pointer;\n",
       "      display: none;\n",
       "      fill: #1967D2;\n",
       "      height: 32px;\n",
       "      padding: 0 0 0 0;\n",
       "      width: 32px;\n",
       "    }\n",
       "\n",
       "    .colab-df-convert:hover {\n",
       "      background-color: #E2EBFA;\n",
       "      box-shadow: 0px 1px 2px rgba(60, 64, 67, 0.3), 0px 1px 3px 1px rgba(60, 64, 67, 0.15);\n",
       "      fill: #174EA6;\n",
       "    }\n",
       "\n",
       "    [theme=dark] .colab-df-convert {\n",
       "      background-color: #3B4455;\n",
       "      fill: #D2E3FC;\n",
       "    }\n",
       "\n",
       "    [theme=dark] .colab-df-convert:hover {\n",
       "      background-color: #434B5C;\n",
       "      box-shadow: 0px 1px 3px 1px rgba(0, 0, 0, 0.15);\n",
       "      filter: drop-shadow(0px 1px 2px rgba(0, 0, 0, 0.3));\n",
       "      fill: #FFFFFF;\n",
       "    }\n",
       "  </style>\n",
       "\n",
       "      <script>\n",
       "        const buttonEl =\n",
       "          document.querySelector('#df-3605198a-abbe-462a-9817-714b4b7cd832 button.colab-df-convert');\n",
       "        buttonEl.style.display =\n",
       "          google.colab.kernel.accessAllowed ? 'block' : 'none';\n",
       "\n",
       "        async function convertToInteractive(key) {\n",
       "          const element = document.querySelector('#df-3605198a-abbe-462a-9817-714b4b7cd832');\n",
       "          const dataTable =\n",
       "            await google.colab.kernel.invokeFunction('convertToInteractive',\n",
       "                                                     [key], {});\n",
       "          if (!dataTable) return;\n",
       "\n",
       "          const docLinkHtml = 'Like what you see? Visit the ' +\n",
       "            '<a target=\"_blank\" href=https://colab.research.google.com/notebooks/data_table.ipynb>data table notebook</a>'\n",
       "            + ' to learn more about interactive tables.';\n",
       "          element.innerHTML = '';\n",
       "          dataTable['output_type'] = 'display_data';\n",
       "          await google.colab.output.renderOutput(dataTable, element);\n",
       "          const docLink = document.createElement('div');\n",
       "          docLink.innerHTML = docLinkHtml;\n",
       "          element.appendChild(docLink);\n",
       "        }\n",
       "      </script>\n",
       "    </div>\n",
       "  </div>\n",
       "  "
      ],
      "text/plain": [
       "     wiki_id      title_goog         title_cmu             key    publisher  \\\n",
       "152  13871.0  hereticsofdune  Heretics of Dune  hereticsofdune      Penguin   \n",
       "153  13871.0  hereticsofdune  Heretics of Dune  hereticsofdune  Demco Media   \n",
       "154  13871.0  hereticsofdune  Heretics of Dune  hereticsofdune      Penguin   \n",
       "155  13871.0  hereticsofdune  Heretics of Dune  hereticsofdune    Macmillan   \n",
       "\n",
       "     rating  num_ratings                                        summary_cmu  \\\n",
       "152     3.5           19   Much has changed in the millennium and a half...   \n",
       "153     3.5           19   Much has changed in the millennium and a half...   \n",
       "154     4.0            5   Much has changed in the millennium and a half...   \n",
       "155     3.0            9   Much has changed in the millennium and a half...   \n",
       "\n",
       "                                          summary_goog  \\\n",
       "152  Book Five in the Magnificent Dune Chroniclesâ€...   \n",
       "153  Thousands of years after the death of God Empe...   \n",
       "154  Fifteen thousand years after Leto II's death, ...   \n",
       "155  When his wife and children are killed by a ter...   \n",
       "\n",
       "                                                 genre  \n",
       "152  {'/m/06n90': 'Science Fiction', '/m/014dfn': '...  \n",
       "153  {'/m/06n90': 'Science Fiction', '/m/014dfn': '...  \n",
       "154  {'/m/06n90': 'Science Fiction', '/m/014dfn': '...  \n",
       "155  {'/m/06n90': 'Science Fiction', '/m/014dfn': '...  "
      ]
     },
     "execution_count": 39,
     "metadata": {},
     "output_type": "execute_result"
    }
   ],
   "source": [
    "data_df[data_df['summary_cmu']==list_all_summaries[39]]"
   ]
  },
  {
   "cell_type": "code",
   "execution_count": null,
   "metadata": {
    "id": "ZpRA9h97Efy5"
   },
   "outputs": [],
   "source": []
  }
 ],
 "metadata": {
  "colab": {
   "collapsed_sections": [],
   "provenance": []
  },
  "kernelspec": {
   "display_name": "Python 3 (ipykernel)",
   "language": "python",
   "name": "python3"
  },
  "language_info": {
   "codemirror_mode": {
    "name": "ipython",
    "version": 3
   },
   "file_extension": ".py",
   "mimetype": "text/x-python",
   "name": "python",
   "nbconvert_exporter": "python",
   "pygments_lexer": "ipython3",
   "version": "3.9.12"
  }
 },
 "nbformat": 4,
 "nbformat_minor": 1
}
